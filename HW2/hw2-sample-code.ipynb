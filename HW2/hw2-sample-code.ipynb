{
 "cells": [
  {
   "cell_type": "markdown",
   "metadata": {
    "id": "A7DRC5V7_8A5"
   },
   "source": [
    "目标：\n",
    "* 使用深度神经网络(DNNs)解决分类问题。\n",
    "* 理解递归神经网络(RNNs)。\n",
    "\n",
    "如果您有任何问题，请通过助教课时间、NTU COOL或发送邮件至mlta-2023-spring@googlegroups.com联系助教"
   ]
  },
  {
   "cell_type": "markdown",
   "metadata": {
    "id": "pADUiYODJE1O"
   },
   "source": [
    "# 一些实用函数\n",
    "**固定随机数生成器种子以确保可重复性。**"
   ]
  },
  {
   "cell_type": "code",
   "execution_count": 1,
   "metadata": {
    "execution": {
     "iopub.execute_input": "2023-02-22T15:19:14.467496Z",
     "iopub.status.busy": "2023-02-22T15:19:14.466839Z",
     "iopub.status.idle": "2023-02-22T15:19:17.007531Z",
     "shell.execute_reply": "2023-02-22T15:19:17.006459Z",
     "shell.execute_reply.started": "2023-02-22T15:19:14.467381Z"
    },
    "id": "BsZKgBZQJjaE",
    "trusted": true
   },
   "outputs": [],
   "source": [
    "import numpy as np\n",
    "import torch\n",
    "import random\n",
    "\n",
    "def same_seeds(seed):\n",
    "    random.seed(seed) \n",
    "    np.random.seed(seed)  \n",
    "    torch.manual_seed(seed)\n",
    "    if torch.cuda.is_available():\n",
    "        torch.cuda.manual_seed(seed)\n",
    "        torch.cuda.manual_seed_all(seed) \n",
    "    torch.backends.cudnn.benchmark = False\n",
    "    torch.backends.cudnn.deterministic = True"
   ]
  },
  {
   "cell_type": "markdown",
   "metadata": {
    "id": "_L_4anls8Drv"
   },
   "source": [
    "**用于从每个语音的原始MFCC特征预处理训练数据的辅助函数。**\n",
    "\n",
    "一个音素可能跨越多个帧，并且依赖于过去和未来的帧。\\\n",
    "因此，我们连接相邻的音素进行训练以获得更高的准确性。**concat_feat**函数连接过去和未来的k帧（总共2k+1 = n帧），我们预测中心帧。\n",
    "\n",
    "您可以随意修改数据预处理函数，但**不要丢弃任何帧**（如果您修改了函数，请记住检查帧数是否与课件中提到的相同）"
   ]
  },
  {
   "cell_type": "code",
   "execution_count": 2,
   "metadata": {
    "execution": {
     "iopub.execute_input": "2023-02-22T15:19:17.010439Z",
     "iopub.status.busy": "2023-02-22T15:19:17.009831Z",
     "iopub.status.idle": "2023-02-22T15:19:17.031164Z",
     "shell.execute_reply": "2023-02-22T15:19:17.030072Z",
     "shell.execute_reply.started": "2023-02-22T15:19:17.010400Z"
    },
    "id": "IJjLT8em-y9G",
    "trusted": true
   },
   "outputs": [],
   "source": [
    "import os\n",
    "from tqdm import tqdm\n",
    "\n",
    "def load_feat(path):\n",
    "    feat = torch.load(path)\n",
    "    return feat\n",
    "\n",
    "def shift(x, n):\n",
    "    if n < 0:\n",
    "        left = x[0].repeat(-n, 1)\n",
    "        right = x[:n]\n",
    "    elif n > 0:\n",
    "        right = x[-1].repeat(n, 1)\n",
    "        left = x[n:]\n",
    "    else:\n",
    "        return x\n",
    "\n",
    "    return torch.cat((left, right), dim=0)\n",
    "\n",
    "def concat_feat(x, concat_n):\n",
    "    assert concat_n % 2 == 1 # n必须为奇数\n",
    "    if concat_n < 2:\n",
    "        return x\n",
    "    seq_len, feature_dim = x.size(0), x.size(1)\n",
    "    x = x.repeat(1, concat_n) \n",
    "    x = x.view(seq_len, concat_n, feature_dim).permute(1, 0, 2) # concat_n, seq_len, feature_dim\n",
    "    mid = (concat_n // 2)\n",
    "    for r_idx in range(1, mid+1):\n",
    "        x[mid + r_idx, :] = shift(x[mid + r_idx], r_idx)\n",
    "        x[mid - r_idx, :] = shift(x[mid - r_idx], -r_idx)\n",
    "\n",
    "    return x.permute(1, 0, 2).view(seq_len, concat_n * feature_dim)\n",
    "\n",
    "def preprocess_data(split, feat_dir, phone_path, concat_nframes, train_ratio=0.8):\n",
    "    class_num = 41 # 注意：预计算值，不需要更改\n",
    "\n",
    "    if split == 'train' or split == 'val':\n",
    "        mode = 'train'\n",
    "    elif split == 'test':\n",
    "        mode = 'test'\n",
    "    else:\n",
    "        raise ValueError('Invalid \\'split\\' argument for dataset: PhoneDataset!')\n",
    "\n",
    "    label_dict = {}\n",
    "    if mode == 'train':\n",
    "        for line in open(os.path.join(phone_path, f'{mode}_labels.txt')).readlines():\n",
    "            line = line.strip('\\n').split(' ')\n",
    "            label_dict[line[0]] = [int(p) for p in line[1:]]\n",
    "        \n",
    "        # 分割训练和验证数据\n",
    "        usage_list = open(os.path.join(phone_path, 'train_split.txt')).readlines()\n",
    "        random.shuffle(usage_list)\n",
    "        train_len = int(len(usage_list) * train_ratio)\n",
    "        usage_list = usage_list[:train_len] if split == 'train' else usage_list[train_len:]\n",
    "\n",
    "    elif mode == 'test':\n",
    "        usage_list = open(os.path.join(phone_path, 'test_split.txt')).readlines()\n",
    "\n",
    "    usage_list = [line.strip('\\n') for line in usage_list]\n",
    "    print('[Dataset] - # phone classes: ' + str(class_num) + ', number of utterances for ' + split + ': ' + str(len(usage_list)))\n",
    "\n",
    "    max_len = 3000000\n",
    "    X = torch.empty(max_len, 39 * concat_nframes)\n",
    "    if mode == 'train':\n",
    "        y = torch.empty(max_len, dtype=torch.long)\n",
    "\n",
    "    idx = 0\n",
    "    for i, fname in tqdm(enumerate(usage_list)):\n",
    "        feat = load_feat(os.path.join(feat_dir, mode, f'{fname}.pt'))\n",
    "        cur_len = len(feat)\n",
    "        feat = concat_feat(feat, concat_nframes)\n",
    "        if mode == 'train':\n",
    "          label = torch.LongTensor(label_dict[fname])\n",
    "\n",
    "        X[idx: idx + cur_len, :] = feat\n",
    "        if mode == 'train':\n",
    "          y[idx: idx + cur_len] = label\n",
    "\n",
    "        idx += cur_len\n",
    "\n",
    "    X = X[:idx, :]\n",
    "    if mode == 'train':\n",
    "      y = y[:idx]\n",
    "\n",
    "    print(f'[INFO] {split} set')\n",
    "    print(X.shape)\n",
    "    if mode == 'train':\n",
    "      print(y.shape)\n",
    "      return X, y\n",
    "    else:\n",
    "      return X\n"
   ]
  },
  {
   "cell_type": "markdown",
   "metadata": {
    "id": "us5XW_x6udZQ"
   },
   "source": [
    "# 数据集"
   ]
  },
  {
   "cell_type": "code",
   "execution_count": 3,
   "metadata": {
    "execution": {
     "iopub.execute_input": "2023-02-22T15:19:17.033523Z",
     "iopub.status.busy": "2023-02-22T15:19:17.033044Z",
     "iopub.status.idle": "2023-02-22T15:19:17.046921Z",
     "shell.execute_reply": "2023-02-22T15:19:17.045990Z",
     "shell.execute_reply.started": "2023-02-22T15:19:17.033471Z"
    },
    "id": "Fjf5EcmJtf4e",
    "trusted": true
   },
   "outputs": [],
   "source": [
    "from torch.utils.data import Dataset\n",
    "\n",
    "class LibriDataset(Dataset):\n",
    "    def __init__(self, X, y=None):\n",
    "        self.data = X\n",
    "        if y is not None:\n",
    "            self.label = torch.LongTensor(y)\n",
    "        else:\n",
    "            self.label = None\n",
    "\n",
    "    def __getitem__(self, idx):\n",
    "        if self.label is not None:\n",
    "            return self.data[idx], self.label[idx]\n",
    "        else:\n",
    "            return self.data[idx]\n",
    "\n",
    "    def __len__(self):\n",
    "        return len(self.data)\n"
   ]
  },
  {
   "cell_type": "markdown",
   "metadata": {
    "id": "IRqKNvNZwe3V"
   },
   "source": [
    "# 模型\n",
    "您可以随意修改模型的结构。"
   ]
  },
  {
   "cell_type": "code",
   "execution_count": 4,
   "metadata": {
    "execution": {
     "iopub.execute_input": "2023-02-22T15:19:17.050655Z",
     "iopub.status.busy": "2023-02-22T15:19:17.050236Z",
     "iopub.status.idle": "2023-02-22T15:19:17.060412Z",
     "shell.execute_reply": "2023-02-22T15:19:17.059172Z",
     "shell.execute_reply.started": "2023-02-22T15:19:17.050624Z"
    },
    "id": "Bg-GRd7ywdrL",
    "trusted": true
   },
   "outputs": [],
   "source": [
    "import torch.nn as nn\n",
    "\n",
    "class BasicBlock(nn.Module):\n",
    "    def __init__(self, input_dim, output_dim):\n",
    "        super(BasicBlock, self).__init__()\n",
    "\n",
    "        self.block = nn.Sequential(\n",
    "            nn.Linear(input_dim, output_dim),\n",
    "            nn.ReLU(),\n",
    "        )\n",
    "\n",
    "    def forward(self, x):\n",
    "        x = self.block(x)\n",
    "        return x\n",
    "\n",
    "\n",
    "class Classifier(nn.Module):\n",
    "    def __init__(self, input_dim, output_dim=41, hidden_layers=1, hidden_dim=256):\n",
    "        super(Classifier, self).__init__()\n",
    "\n",
    "        self.fc = nn.Sequential(\n",
    "            BasicBlock(input_dim, hidden_dim),\n",
    "            *[BasicBlock(hidden_dim, hidden_dim) for _ in range(hidden_layers)],\n",
    "            nn.Linear(hidden_dim, output_dim)\n",
    "        )\n",
    "\n",
    "    def forward(self, x):\n",
    "        x = self.fc(x)\n",
    "        return x"
   ]
  },
  {
   "cell_type": "markdown",
   "metadata": {
    "id": "TlIq8JeqvvHC"
   },
   "source": [
    "# 超参数"
   ]
  },
  {
   "cell_type": "code",
   "execution_count": 5,
   "metadata": {
    "execution": {
     "iopub.execute_input": "2023-02-22T15:19:17.061941Z",
     "iopub.status.busy": "2023-02-22T15:19:17.061666Z",
     "iopub.status.idle": "2023-02-22T15:19:17.075782Z",
     "shell.execute_reply": "2023-02-22T15:19:17.074564Z",
     "shell.execute_reply.started": "2023-02-22T15:19:17.061914Z"
    },
    "id": "iIHn79Iav1ri",
    "trusted": true
   },
   "outputs": [],
   "source": [
    "# 数据参数\n",
    "concat_nframes = 3              # 要连接的帧数，n必须为奇数（总共2k+1 = n帧）\n",
    "train_ratio = 0.75               # 用于训练的数据比例，其余用于验证\n",
    "\n",
    "# 训练参数\n",
    "seed = 1213                        # 随机种子\n",
    "batch_size = 512                # 批次大小\n",
    "num_epoch = 10                   # 训练轮数\n",
    "learning_rate = 1e-4         # 学习率\n",
    "model_path = './model.ckpt'     # 保存检查点的路径\n",
    "\n",
    "# 模型参数\n",
    "input_dim = 39 * concat_nframes # 模型的输入维度，您不应该更改此值\n",
    "hidden_layers = 2               # 隐藏层数\n",
    "hidden_dim = 64                # 隐藏层维度"
   ]
  },
  {
   "cell_type": "markdown",
   "metadata": {
    "id": "IIUFRgG5yoDn"
   },
   "source": [
    "# 数据加载器"
   ]
  },
  {
   "cell_type": "code",
   "execution_count": 6,
   "metadata": {
    "colab": {
     "base_uri": "https://localhost:8080/"
    },
    "execution": {
     "iopub.execute_input": "2023-02-22T15:19:17.080524Z",
     "iopub.status.busy": "2023-02-22T15:19:17.080076Z",
     "iopub.status.idle": "2023-02-22T15:19:34.612724Z",
     "shell.execute_reply": "2023-02-22T15:19:34.611671Z",
     "shell.execute_reply.started": "2023-02-22T15:19:17.080475Z"
    },
    "id": "c1zI3v5jyrDn",
    "outputId": "6e7eeb1b-b76a-4846-b9b4-055d66c05661",
    "trusted": true
   },
   "outputs": [
    {
     "name": "stdout",
     "output_type": "stream",
     "text": [
      "DEVICE: cuda\n",
      "[Dataset] - # phone classes: 41, number of utterances for train: 2571\n"
     ]
    },
    {
     "name": "stderr",
     "output_type": "stream",
     "text": [
      "2571it [00:14, 181.62it/s]\n"
     ]
    },
    {
     "name": "stdout",
     "output_type": "stream",
     "text": [
      "[INFO] train set\n",
      "torch.Size([1588590, 117])\n",
      "torch.Size([1588590])\n",
      "[Dataset] - # phone classes: 41, number of utterances for val: 858\n"
     ]
    },
    {
     "name": "stderr",
     "output_type": "stream",
     "text": [
      "858it [00:02, 421.83it/s]\n"
     ]
    },
    {
     "name": "stdout",
     "output_type": "stream",
     "text": [
      "[INFO] val set\n",
      "torch.Size([525078, 117])\n",
      "torch.Size([525078])\n"
     ]
    }
   ],
   "source": [
    "from torch.utils.data import DataLoader\n",
    "import gc\n",
    "\n",
    "same_seeds(seed)\n",
    "device = 'cuda' if torch.cuda.is_available() else 'cpu'\n",
    "print(f'DEVICE: {device}')\n",
    "\n",
    "# 预处理数据\n",
    "train_X, train_y = preprocess_data(split='train', feat_dir='/kaggle/input/ml2023spring-hw2/libriphone/feat', phone_path='/kaggle/input/ml2023spring-hw2/libriphone', concat_nframes=concat_nframes, train_ratio=train_ratio)\n",
    "val_X, val_y = preprocess_data(split='val', feat_dir='/kaggle/input/ml2023spring-hw2/libriphone/feat', phone_path='/kaggle/input/ml2023spring-hw2/libriphone', concat_nframes=concat_nframes, train_ratio=train_ratio)\n",
    "\n",
    "# 获取数据集\n",
    "train_set = LibriDataset(train_X, train_y)\n",
    "val_set = LibriDataset(val_X, val_y)\n",
    "\n",
    "# 删除原始特征以节省内存\n",
    "del train_X, train_y, val_X, val_y\n",
    "gc.collect()\n",
    "\n",
    "# 获取数据加载器\n",
    "train_loader = DataLoader(train_set, batch_size=batch_size, shuffle=True)\n",
    "val_loader = DataLoader(val_set, batch_size=batch_size, shuffle=False)"
   ]
  },
  {
   "cell_type": "markdown",
   "metadata": {
    "id": "pwWH1KIqzxEr"
   },
   "source": [
    "# 训练"
   ]
  },
  {
   "cell_type": "code",
   "execution_count": 7,
   "metadata": {
    "colab": {
     "base_uri": "https://localhost:8080/"
    },
    "execution": {
     "iopub.execute_input": "2023-02-22T15:19:34.614889Z",
     "iopub.status.busy": "2023-02-22T15:19:34.614398Z",
     "iopub.status.idle": "2023-02-22T15:23:24.633006Z",
     "shell.execute_reply": "2023-02-22T15:23:24.631913Z",
     "shell.execute_reply.started": "2023-02-22T15:19:34.614849Z"
    },
    "id": "CdMWsBs7zzNs",
    "outputId": "426e0a6c-02bd-4f59-e45c-b05e3f28965d",
    "trusted": true
   },
   "outputs": [
    {
     "name": "stderr",
     "output_type": "stream",
     "text": [
      "100%|██████████| 3103/3103 [00:20<00:00, 149.92it/s]\n",
      "100%|██████████| 1026/1026 [00:03<00:00, 264.67it/s]\n"
     ]
    },
    {
     "name": "stdout",
     "output_type": "stream",
     "text": [
      "[001/010] Train Acc: 0.39279 Loss: 2.21685 | Val Acc: 0.43877 loss: 1.97101\n",
      "saving model with acc 0.43877\n"
     ]
    },
    {
     "name": "stderr",
     "output_type": "stream",
     "text": [
      "100%|██████████| 3103/3103 [00:18<00:00, 167.08it/s]\n",
      "100%|██████████| 1026/1026 [00:03<00:00, 267.00it/s]\n"
     ]
    },
    {
     "name": "stdout",
     "output_type": "stream",
     "text": [
      "[002/010] Train Acc: 0.45006 Loss: 1.92895 | Val Acc: 0.45998 loss: 1.87939\n",
      "saving model with acc 0.45998\n"
     ]
    },
    {
     "name": "stderr",
     "output_type": "stream",
     "text": [
      "100%|██████████| 3103/3103 [00:21<00:00, 144.07it/s]\n",
      "100%|██████████| 1026/1026 [00:04<00:00, 247.78it/s]\n"
     ]
    },
    {
     "name": "stdout",
     "output_type": "stream",
     "text": [
      "[003/010] Train Acc: 0.46597 Loss: 1.86069 | Val Acc: 0.47208 loss: 1.82799\n",
      "saving model with acc 0.47208\n"
     ]
    },
    {
     "name": "stderr",
     "output_type": "stream",
     "text": [
      "100%|██████████| 3103/3103 [00:18<00:00, 169.97it/s]\n",
      "100%|██████████| 1026/1026 [00:03<00:00, 283.40it/s]\n"
     ]
    },
    {
     "name": "stdout",
     "output_type": "stream",
     "text": [
      "[004/010] Train Acc: 0.47515 Loss: 1.82138 | Val Acc: 0.47907 loss: 1.79551\n",
      "saving model with acc 0.47907\n"
     ]
    },
    {
     "name": "stderr",
     "output_type": "stream",
     "text": [
      "100%|██████████| 3103/3103 [00:18<00:00, 166.43it/s]\n",
      "100%|██████████| 1026/1026 [00:03<00:00, 286.09it/s]\n"
     ]
    },
    {
     "name": "stdout",
     "output_type": "stream",
     "text": [
      "[005/010] Train Acc: 0.48120 Loss: 1.79330 | Val Acc: 0.48501 loss: 1.77000\n",
      "saving model with acc 0.48501\n"
     ]
    },
    {
     "name": "stderr",
     "output_type": "stream",
     "text": [
      "100%|██████████| 3103/3103 [00:18<00:00, 167.92it/s]\n",
      "100%|██████████| 1026/1026 [00:03<00:00, 269.11it/s]\n"
     ]
    },
    {
     "name": "stdout",
     "output_type": "stream",
     "text": [
      "[006/010] Train Acc: 0.48605 Loss: 1.77163 | Val Acc: 0.48914 loss: 1.75055\n",
      "saving model with acc 0.48914\n"
     ]
    },
    {
     "name": "stderr",
     "output_type": "stream",
     "text": [
      "100%|██████████| 3103/3103 [00:18<00:00, 169.29it/s]\n",
      "100%|██████████| 1026/1026 [00:03<00:00, 286.90it/s]\n"
     ]
    },
    {
     "name": "stdout",
     "output_type": "stream",
     "text": [
      "[007/010] Train Acc: 0.48999 Loss: 1.75428 | Val Acc: 0.49303 loss: 1.73504\n",
      "saving model with acc 0.49303\n"
     ]
    },
    {
     "name": "stderr",
     "output_type": "stream",
     "text": [
      "100%|██████████| 3103/3103 [00:18<00:00, 167.02it/s]\n",
      "100%|██████████| 1026/1026 [00:03<00:00, 287.82it/s]\n"
     ]
    },
    {
     "name": "stdout",
     "output_type": "stream",
     "text": [
      "[008/010] Train Acc: 0.49323 Loss: 1.73994 | Val Acc: 0.49616 loss: 1.72260\n",
      "saving model with acc 0.49616\n"
     ]
    },
    {
     "name": "stderr",
     "output_type": "stream",
     "text": [
      "100%|██████████| 3103/3103 [00:18<00:00, 165.13it/s]\n",
      "100%|██████████| 1026/1026 [00:03<00:00, 271.37it/s]\n"
     ]
    },
    {
     "name": "stdout",
     "output_type": "stream",
     "text": [
      "[009/010] Train Acc: 0.49606 Loss: 1.72781 | Val Acc: 0.49852 loss: 1.71150\n",
      "saving model with acc 0.49852\n"
     ]
    },
    {
     "name": "stderr",
     "output_type": "stream",
     "text": [
      "100%|██████████| 3103/3103 [00:18<00:00, 170.98it/s]\n",
      "100%|██████████| 1026/1026 [00:03<00:00, 286.58it/s]"
     ]
    },
    {
     "name": "stdout",
     "output_type": "stream",
     "text": [
      "[010/010] Train Acc: 0.49840 Loss: 1.71736 | Val Acc: 0.50044 loss: 1.70057\n",
      "saving model with acc 0.50044\n"
     ]
    },
    {
     "name": "stderr",
     "output_type": "stream",
     "text": [
      "\n"
     ]
    }
   ],
   "source": [
    "# 创建模型，定义损失函数和优化器\n",
    "model = Classifier(input_dim=input_dim, hidden_layers=hidden_layers, hidden_dim=hidden_dim).to(device)\n",
    "criterion = nn.CrossEntropyLoss() \n",
    "optimizer = torch.optim.Adam(model.parameters(), lr=learning_rate)\n",
    "\n",
    "best_acc = 0.0\n",
    "for epoch in range(num_epoch):\n",
    "    train_acc = 0.0\n",
    "    train_loss = 0.0\n",
    "    val_acc = 0.0\n",
    "    val_loss = 0.0\n",
    "    \n",
    "    # 训练\n",
    "    model.train() # 将模型设置为训练模式\n",
    "    for i, batch in enumerate(tqdm(train_loader)):\n",
    "        features, labels = batch\n",
    "        features = features.to(device)\n",
    "        labels = labels.to(device)\n",
    "        \n",
    "        optimizer.zero_grad() \n",
    "        outputs = model(features) \n",
    "        \n",
    "        loss = criterion(outputs, labels)\n",
    "        loss.backward() \n",
    "        optimizer.step() \n",
    "        \n",
    "        _, train_pred = torch.max(outputs, 1) # 获取概率最高的类别索引\n",
    "        train_acc += (train_pred.detach() == labels.detach()).sum().item()\n",
    "        train_loss += loss.item()\n",
    "    \n",
    "    # 验证\n",
    "    model.eval() # 将模型设置为评估模式\n",
    "    with torch.no_grad():\n",
    "        for i, batch in enumerate(tqdm(val_loader)):\n",
    "            features, labels = batch\n",
    "            features = features.to(device)\n",
    "            labels = labels.to(device)\n",
    "            outputs = model(features)\n",
    "            \n",
    "            loss = criterion(outputs, labels) \n",
    "            \n",
    "            _, val_pred = torch.max(outputs, 1) \n",
    "            val_acc += (val_pred.cpu() == labels.cpu()).sum().item() # 获取概率最高的类别索引\n",
    "            val_loss += loss.item()\n",
    "\n",
    "    print(f'[{epoch+1:03d}/{num_epoch:03d}] Train Acc: {train_acc/len(train_set):3.5f} Loss: {train_loss/len(train_loader):3.5f} | Val Acc: {val_acc/len(val_set):3.5f} loss: {val_loss/len(val_loader):3.5f}')\n",
    "\n",
    "    # 如果模型改进，在此轮保存检查点\n",
    "    if val_acc > best_acc:\n",
    "        best_acc = val_acc\n",
    "        torch.save(model.state_dict(), model_path)\n",
    "        print(f'saving model with acc {best_acc/len(val_set):.5f}')\n"
   ]
  },
  {
   "cell_type": "code",
   "execution_count": 8,
   "metadata": {
    "colab": {
     "base_uri": "https://localhost:8080/"
    },
    "execution": {
     "iopub.execute_input": "2023-02-22T15:23:24.635403Z",
     "iopub.status.busy": "2023-02-22T15:23:24.634657Z",
     "iopub.status.idle": "2023-02-22T15:23:24.811704Z",
     "shell.execute_reply": "2023-02-22T15:23:24.810470Z",
     "shell.execute_reply.started": "2023-02-22T15:23:24.635361Z"
    },
    "id": "ab33MxosWLmG",
    "outputId": "0d5e2cc6-46f3-41b9-ea09-79fdf660898f",
    "trusted": true
   },
   "outputs": [
    {
     "data": {
      "text/plain": [
       "23"
      ]
     },
     "execution_count": 8,
     "metadata": {},
     "output_type": "execute_result"
    }
   ],
   "source": [
    "del train_set, val_set\n",
    "del train_loader, val_loader\n",
    "gc.collect()"
   ]
  },
  {
   "cell_type": "markdown",
   "metadata": {
    "id": "1Hi7jTn3PX-m"
   },
   "source": [
    "# 测试\n",
    "创建测试数据集，并从保存的检查点加载模型。"
   ]
  },
  {
   "cell_type": "code",
   "execution_count": 9,
   "metadata": {
    "colab": {
     "base_uri": "https://localhost:8080/"
    },
    "execution": {
     "iopub.execute_input": "2023-02-22T15:23:24.813902Z",
     "iopub.status.busy": "2023-02-22T15:23:24.813496Z",
     "iopub.status.idle": "2023-02-22T15:23:29.539930Z",
     "shell.execute_reply": "2023-02-22T15:23:29.538893Z",
     "shell.execute_reply.started": "2023-02-22T15:23:24.813865Z"
    },
    "id": "VOG1Ou0PGrhc",
    "outputId": "3373d328-bb42-48ec-92f2-e2e935c3344c",
    "trusted": true
   },
   "outputs": [
    {
     "name": "stdout",
     "output_type": "stream",
     "text": [
      "[Dataset] - # phone classes: 41, number of utterances for test: 857\n"
     ]
    },
    {
     "name": "stderr",
     "output_type": "stream",
     "text": [
      "857it [00:04, 182.29it/s]"
     ]
    },
    {
     "name": "stdout",
     "output_type": "stream",
     "text": [
      "[INFO] test set\n",
      "torch.Size([527364, 117])\n"
     ]
    },
    {
     "name": "stderr",
     "output_type": "stream",
     "text": [
      "\n"
     ]
    }
   ],
   "source": [
    "# 加载数据\n",
    "test_X = preprocess_data(split='test', feat_dir='/kaggle/input/ml2023spring-hw2/libriphone/feat', phone_path='/kaggle/input/ml2023spring-hw2/libriphone', concat_nframes=concat_nframes)\n",
    "test_set = LibriDataset(test_X, None)\n",
    "test_loader = DataLoader(test_set, batch_size=batch_size, shuffle=False)"
   ]
  },
  {
   "cell_type": "code",
   "execution_count": 10,
   "metadata": {
    "colab": {
     "base_uri": "https://localhost:8080/"
    },
    "execution": {
     "iopub.execute_input": "2023-02-22T15:23:29.543910Z",
     "iopub.status.busy": "2023-02-22T15:23:29.543073Z",
     "iopub.status.idle": "2023-02-22T15:23:29.559049Z",
     "shell.execute_reply": "2023-02-22T15:23:29.557778Z",
     "shell.execute_reply.started": "2023-02-22T15:23:29.543869Z"
    },
    "id": "ay0Fu8Ovkdad",
    "outputId": "fe130106-a997-4985-fc4b-5102414afe31",
    "trusted": true
   },
   "outputs": [
    {
     "data": {
      "text/plain": [
       "<All keys matched successfully>"
      ]
     },
     "execution_count": 10,
     "metadata": {},
     "output_type": "execute_result"
    }
   ],
   "source": [
    "# 加载模型\n",
    "model = Classifier(input_dim=input_dim, hidden_layers=hidden_layers, hidden_dim=hidden_dim).to(device)\n",
    "model.load_state_dict(torch.load(model_path))"
   ]
  },
  {
   "cell_type": "markdown",
   "metadata": {
    "id": "zp-DV1p4r7Nz"
   },
   "source": [
    "进行预测。"
   ]
  },
  {
   "cell_type": "code",
   "execution_count": 11,
   "metadata": {
    "colab": {
     "base_uri": "https://localhost:8080/"
    },
    "execution": {
     "iopub.execute_input": "2023-02-22T15:23:29.561203Z",
     "iopub.status.busy": "2023-02-22T15:23:29.560613Z",
     "iopub.status.idle": "2023-02-22T15:23:31.628018Z",
     "shell.execute_reply": "2023-02-22T15:23:31.626836Z",
     "shell.execute_reply.started": "2023-02-22T15:23:29.561164Z"
    },
    "id": "84HU5GGjPqR0",
    "outputId": "b49ffee0-1785-419d-e56c-0ddd734b2c99",
    "trusted": true
   },
   "outputs": [
    {
     "name": "stderr",
     "output_type": "stream",
     "text": [
      "100%|██████████| 1031/1031 [00:02<00:00, 502.27it/s]\n"
     ]
    }
   ],
   "source": [
    "pred = np.array([], dtype=np.int32)\n",
    "\n",
    "model.eval()\n",
    "with torch.no_grad():\n",
    "    for i, batch in enumerate(tqdm(test_loader)):\n",
    "        features = batch\n",
    "        features = features.to(device)\n",
    "\n",
    "        outputs = model(features)\n",
    "\n",
    "        _, test_pred = torch.max(outputs, 1) # 获取概率最高的类别索引\n",
    "        pred = np.concatenate((pred, test_pred.cpu().numpy()), axis=0)\n"
   ]
  },
  {
   "cell_type": "markdown",
   "metadata": {
    "id": "wyZqy40Prz0v"
   },
   "source": [
    "将预测结果写入CSV文件。\n",
    "\n",
    "运行完此代码块后，从左侧文件栏下载`prediction.csv`文件并提交到Kaggle。"
   ]
  },
  {
   "cell_type": "code",
   "execution_count": 12,
   "metadata": {
    "execution": {
     "iopub.execute_input": "2023-02-22T15:23:31.631536Z",
     "iopub.status.busy": "2023-02-22T15:23:31.630344Z",
     "iopub.status.idle": "2023-02-22T15:23:32.063028Z",
     "shell.execute_reply": "2023-02-22T15:23:32.061992Z",
     "shell.execute_reply.started": "2023-02-22T15:23:31.631476Z"
    },
    "id": "GuljYSPHcZir",
    "trusted": true
   },
   "outputs": [],
   "source": [
    "with open('prediction.csv', 'w') as f:\n",
    "    f.write('Id,Class\\n')\n",
    "    for i, y in enumerate(pred):\n",
    "        f.write('{},{}\\n'.format(i, y))"
   ]
  }
 ],
 "metadata": {
  "accelerator": "GPU",
  "colab": {
   "provenance": []
  },
  "kernelspec": {
   "display_name": "asce_net_env",
   "language": "python",
   "name": "python3"
  },
  "language_info": {
   "codemirror_mode": {
    "name": "ipython",
    "version": 3
   },
   "file_extension": ".py",
   "mimetype": "text/x-python",
   "name": "python",
   "nbconvert_exporter": "python",
   "pygments_lexer": "ipython3",
   "version": "3.10.18"
  }
 },
 "nbformat": 4,
 "nbformat_minor": 4
}
