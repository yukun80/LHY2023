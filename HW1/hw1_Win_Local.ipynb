{
 "cells": [
  {
   "attachments": {},
   "cell_type": "markdown",
   "metadata": {
    "id": "guE34D3Fj2R9"
   },
   "source": [
    "# **Homework 1: COVID-19 Cases Prediction (Regression)**"
   ]
  },
  {
   "attachments": {},
   "cell_type": "markdown",
   "metadata": {
    "id": "V57zhcTp1Xxb"
   },
   "source": [
    "Objectives:\n",
    "* Solve a regression problem with deep neural networks (DNN).\n",
    "* Understand basic DNN training tips.\n",
    "* Familiarize yourself with PyTorch.\n",
    "\n",
    "If you have any questions, please contact the TAs via TA hours, NTU COOL, or email to mlta-2023-spring@googlegroups.com"
   ]
  },
  {
   "cell_type": "code",
   "execution_count": 52,
   "metadata": {
    "id": "GUATI4ONArv_",
    "tags": []
   },
   "outputs": [
    {
     "name": "stdout",
     "output_type": "stream",
     "text": [
      "Thu Jun 15 17:45:13 2023       \n",
      "+---------------------------------------------------------------------------------------+\n",
      "| NVIDIA-SMI 535.98                 Driver Version: 535.98       CUDA Version: 12.2     |\n",
      "|-----------------------------------------+----------------------+----------------------+\n",
      "| GPU  Name                     TCC/WDDM  | Bus-Id        Disp.A | Volatile Uncorr. ECC |\n",
      "| Fan  Temp   Perf          Pwr:Usage/Cap |         Memory-Usage | GPU-Util  Compute M. |\n",
      "|                                         |                      |               MIG M. |\n",
      "|=========================================+======================+======================|\n",
      "|   0  NVIDIA GeForce RTX 3060 ...  WDDM  | 00000000:01:00.0  On |                  N/A |\n",
      "| N/A   50C    P5              18W / 100W |   3222MiB /  6144MiB |     13%      Default |\n",
      "|                                         |                      |                  N/A |\n",
      "+-----------------------------------------+----------------------+----------------------+\n",
      "                                                                                         \n",
      "+---------------------------------------------------------------------------------------+\n",
      "| Processes:                                                                            |\n",
      "|  GPU   GI   CI        PID   Type   Process name                            GPU Memory |\n",
      "|        ID   ID                                                             Usage      |\n",
      "|=======================================================================================|\n",
      "|    0   N/A  N/A      1464    C+G   ...CBS_cw5n1h2txyewy\\TextInputHost.exe    N/A      |\n",
      "|    0   N/A  N/A      4016    C+G   ....Search_cw5n1h2txyewy\\SearchApp.exe    N/A      |\n",
      "|    0   N/A  N/A      5848    C+G   ...am Files\\Microsoft VS Code\\Code.exe    N/A      |\n",
      "|    0   N/A  N/A     11396    C+G   ...soft Office\\root\\Office16\\EXCEL.EXE    N/A      |\n",
      "|    0   N/A  N/A     13684    C+G   ....0_x64__8wekyb3d8bbwe\\HxOutlook.exe    N/A      |\n",
      "|    0   N/A  N/A     13896    C+G   C:\\Windows\\explorer.exe                   N/A      |\n",
      "|    0   N/A  N/A     14200    C+G   ...)\\Netease\\CloudMusic\\cloudmusic.exe    N/A      |\n",
      "|    0   N/A  N/A     14584    C+G   ...t.LockApp_cw5n1h2txyewy\\LockApp.exe    N/A      |\n",
      "|    0   N/A  N/A     14944    C+G   ...5n1h2txyewy\\ShellExperienceHost.exe    N/A      |\n",
      "|    0   N/A  N/A     16096    C+G   ..._8wekyb3d8bbwe\\Microsoft.Photos.exe    N/A      |\n",
      "|    0   N/A  N/A     16232      C   D:\\anaconda3\\python.exe                   N/A      |\n",
      "|    0   N/A  N/A     18624    C+G   ...5\\extracted\\runtime\\WeChatAppEx.exe    N/A      |\n",
      "|    0   N/A  N/A     20236    C+G   ...siveControlPanel\\SystemSettings.exe    N/A      |\n",
      "|    0   N/A  N/A     22100    C+G   ...m\\radeonsoftware\\RadeonSoftware.exe    N/A      |\n",
      "|    0   N/A  N/A     23420    C+G   ...auncher\\PowerToys.PowerLauncher.exe    N/A      |\n",
      "|    0   N/A  N/A     23736    C+G   ...oogle\\Chrome\\Application\\chrome.exe    N/A      |\n",
      "+---------------------------------------------------------------------------------------+\n"
     ]
    }
   ],
   "source": [
    "!nvidia-smi"
   ]
  },
  {
   "attachments": {},
   "cell_type": "markdown",
   "metadata": {
    "id": "Tm2aXcb-j9Fc"
   },
   "source": [
    "# Download data\n",
    "If the Google Drive links below do not work, you can use the dropbox link below or download data from [Kaggle](https://www.kaggle.com/t/a339b77fa5214978bfb8dde62d3151fe), and upload data manually to the workspace."
   ]
  },
  {
   "cell_type": "code",
   "execution_count": 53,
   "metadata": {
    "id": "YPmfl-awlKZA",
    "tags": []
   },
   "outputs": [],
   "source": [
    "# google drive link\n",
    "# !pip install gdown\n",
    "# !gdown --id '1BjXalPZxq9mybPKNjF3h5L3NcF7XKTS-' --output covid_train.csv\n",
    "# !gdown --id '1B55t74Jg2E5FCsKCsUEkPKIuqaY7UIi1' --output covid_test.csv\n",
    "\n",
    "# dropbox link\n",
    "# !wget -O covid_train.csv https://www.dropbox.com/s/lmy1riadzoy0ahw/covid.train.csv?dl=0\n",
    "# !wget -O covid_test.csv https://www.dropbox.com/s/zalbw42lu4nmhr2/covid.test.csv?dl=0\n",
    "\n",
    "# 本地运行时文件下载\n",
    "# Invoke-WebRequest -Uri https://www.dropbox.com/s/lmy1riadzoy0ahw/covid.train.csv?dl=0 -OutFile covid_train.csv\n",
    "# Invoke-WebRequest -Uri https://www.dropbox.com/s/zalbw42lu4nmhr2/covid.test.csv?dl=0 -OutFile covid_test.csv\n"
   ]
  },
  {
   "attachments": {},
   "cell_type": "markdown",
   "metadata": {
    "id": "igqIMEgu64-F"
   },
   "source": [
    "# Import packages"
   ]
  },
  {
   "cell_type": "code",
   "execution_count": 54,
   "metadata": {
    "id": "xybQNYCXYu13",
    "tags": []
   },
   "outputs": [],
   "source": [
    "# Numerical Operations\n",
    "import math\n",
    "import numpy as np\n",
    "\n",
    "# Reading/Writing Data\n",
    "import pandas as pd\n",
    "import os\n",
    "import csv\n",
    "\n",
    "# For Progress Bar\n",
    "from tqdm import tqdm\n",
    "\n",
    "# Pytorch\n",
    "import torch \n",
    "import torch.nn as nn\n",
    "from torch.utils.data import Dataset, DataLoader, random_split\n",
    "\n",
    "# For plotting learning curve\n",
    "from torch.utils.tensorboard import SummaryWriter"
   ]
  },
  {
   "attachments": {},
   "cell_type": "markdown",
   "metadata": {
    "id": "fTAVqRfc2KK3"
   },
   "source": [
    "# Some Utility Functions\n",
    "\n",
    "You do not need to modify this part."
   ]
  },
  {
   "cell_type": "code",
   "execution_count": 55,
   "metadata": {
    "execution": {
     "iopub.execute_input": "2023-02-12T07:31:18.241964Z",
     "iopub.status.busy": "2023-02-12T07:31:18.241353Z",
     "iopub.status.idle": "2023-02-12T07:31:18.251864Z",
     "shell.execute_reply": "2023-02-12T07:31:18.250938Z",
     "shell.execute_reply.started": "2023-02-12T07:31:18.241928Z"
    },
    "id": "RbrcpfYN2I-H"
   },
   "outputs": [],
   "source": [
    "# 设置随机种子，以确保实验的可重复性\n",
    "def same_seed(seed): \n",
    "    '''Fixes random number generator seeds for reproducibility.'''\n",
    "    # 设置了PyTorch的CuDNN后端以确定性模式运行，这意味着所有的操作都将是确定的，即每次运行程序时，结果都将是相同的。\n",
    "    torch.backends.cudnn.deterministic = True\n",
    "    # 禁用了CuDNN的基准测试模式，这个模式通常用于加速训练，但在这里被禁用，以确保结果的一致性。\n",
    "    torch.backends.cudnn.benchmark = False\n",
    "    # 设置随机种子\n",
    "    np.random.seed(seed)\n",
    "    # 为CPU设置种子用于生成随机数，以使得结果是确定的\n",
    "    torch.manual_seed(seed)\n",
    "    if torch.cuda.is_available():\n",
    "        # 为当前GPU设置随机种子\n",
    "        torch.cuda.manual_seed_all(seed)\n",
    "# 将训练数据分为训练集和验证集\n",
    "def train_valid_split(data_set, valid_ratio, seed):\n",
    "    '''Split provided training data into training set and validation set'''\n",
    "    # 计算了验证集的大小\n",
    "    valid_set_size = int(valid_ratio * len(data_set)) \n",
    "    # 计算了训练集的大小\n",
    "    train_set_size = len(data_set) - valid_set_size\n",
    "    # 使用PyTorch提供的random_split函数将数据集分割成训练集和验证集\n",
    "    train_set, valid_set = random_split(data_set, [train_set_size, valid_set_size], generator=torch.Generator().manual_seed(seed))\n",
    "    return np.array(train_set), np.array(valid_set)\n",
    "# 返回预测结果\n",
    "def predict(test_loader, model, device):\n",
    "    model.eval() # Set your model to evaluation mode.\n",
    "    preds = []\n",
    "    # tqdm是一个快速，可扩展的Python进度条，可以在Python长循环中添加一个进度提示信息，用户只需要封装任意的迭代器tqdm(iterator)即可\n",
    "    for x in tqdm(test_loader):\n",
    "        # 将数据复制到指定的设备上\n",
    "        x = x.to(device)\n",
    "        # 禁用梯度计算\n",
    "        with torch.no_grad():\n",
    "            # 使用模型对输入数据x进行预测\n",
    "            pred = model(x)\n",
    "            # 将预测结果从设备上移除并转移到CPU上，然后添加到预测结果列表中\n",
    "            preds.append(pred.detach().cpu())\n",
    "    # 将预测结果拼接成一个numpy数组\n",
    "    preds = torch.cat(preds, dim=0).numpy()  \n",
    "    return preds"
   ]
  },
  {
   "attachments": {},
   "cell_type": "markdown",
   "metadata": {
    "id": "IqO3lTm78nNO"
   },
   "source": [
    "# Dataset"
   ]
  },
  {
   "cell_type": "code",
   "execution_count": 56,
   "metadata": {
    "execution": {
     "iopub.execute_input": "2023-02-12T07:31:18.254031Z",
     "iopub.status.busy": "2023-02-12T07:31:18.253412Z",
     "iopub.status.idle": "2023-02-12T07:31:18.262072Z",
     "shell.execute_reply": "2023-02-12T07:31:18.261108Z",
     "shell.execute_reply.started": "2023-02-12T07:31:18.253994Z"
    },
    "id": "-mjaJM0wprMs"
   },
   "outputs": [],
   "source": [
    "'''\n",
    "这段代码定义了一个名为COVID19Dataset的类,它继承自PyTorch的Dataset类。Dataset是一个抽象类,用于表示数据集,\n",
    "它要求所有子类实现__getitem__和__len__方法。\n",
    "COVID19Dataset类用于表示COVID-19的数据集,包括特征(x)和目标(y)。\n",
    "'''\n",
    "class COVID19Dataset(Dataset):\n",
    "    '''\n",
    "    x: Features.\n",
    "    y: Targets, if none, do prediction.\n",
    "    '''\n",
    "    def __init__(self, x, y=None):\n",
    "        if y is None:\n",
    "            self.y = y\n",
    "        else:\n",
    "            self.y = torch.FloatTensor(y)\n",
    "        self.x = torch.FloatTensor(x)\n",
    "\n",
    "    def __getitem__(self, idx):\n",
    "        if self.y is None:\n",
    "            return self.x[idx]\n",
    "        else:\n",
    "            return self.x[idx], self.y[idx]\n",
    "\n",
    "    def __len__(self):\n",
    "        return len(self.x)"
   ]
  },
  {
   "attachments": {},
   "cell_type": "markdown",
   "metadata": {
    "id": "m73ooU75CL_j"
   },
   "source": [
    "# Neural Network Model\n",
    "Try out different model architectures by modifying the class below.\n",
    "\n",
    "**优化方向：**\n",
    "1. 增加或减少隐藏层：可以尝试增加或减少nn.Linear层的数量，以改变模型的深度。更深的模型可能能够学习更复杂的表示，但也可能更容易过拟合。\n",
    "\n",
    "2. 改变隐藏层的大小：可以改变nn.Linear层的大小，即改变每一层的神经元数量。更多的神经元可以增加模型的容量，但也可能导致过拟合。\n",
    "\n",
    "3. 使用不同的激活函数：可以尝试使用不同的激活函数，如nn.Sigmoid、nn.Tanh或nn.LeakyReLU。\n",
    "\n",
    "4. 添加正则化：可以添加nn.Dropout层或使用权重衰减（L2正则化）来防止过拟合。\n",
    "\n",
    "5. 使用批量归一化：可以在每个nn.Linear层后添加nn.BatchNorm1d层，这可以加速训练并提高模型的性能。\n",
    "\n",
    "6. 改变模型的架构：除了全连接网络，你还可以尝试使用其他类型的网络，如卷积神经网络（CNN）、循环神经网络（RNN）或者更复杂的模型如Transformer。"
   ]
  },
  {
   "cell_type": "code",
   "execution_count": 57,
   "metadata": {
    "execution": {
     "iopub.execute_input": "2023-02-12T07:31:18.263886Z",
     "iopub.status.busy": "2023-02-12T07:31:18.263546Z",
     "iopub.status.idle": "2023-02-12T07:31:18.274148Z",
     "shell.execute_reply": "2023-02-12T07:31:18.273078Z",
     "shell.execute_reply.started": "2023-02-12T07:31:18.263852Z"
    },
    "id": "Qn97_WvvrEkG"
   },
   "outputs": [],
   "source": [
    "class My_Model(nn.Module):\n",
    "    def __init__(self, input_dim):\n",
    "        super(My_Model, self).__init__()\n",
    "        self.layers = nn.Sequential(\n",
    "            nn.Linear(input_dim, 64),\n",
    "            nn.ReLU(),\n",
    "            nn.Linear(64, 32),\n",
    "            nn.ReLU(),\n",
    "            nn.Linear(32, 16),\n",
    "            nn.ReLU(),\n",
    "            nn.Linear(16, 1)\n",
    "        )\n",
    "\n",
    "    # 定义了模型的前向传播过程。它接收一个输入x，然后通过self.layers进行处理，最后使用squeeze方法移除大小为1的维度\n",
    "    def forward(self, x):\n",
    "        x = self.layers(x)\n",
    "        x = x.squeeze(1) # (B, 1) -> (B)\n",
    "        return x"
   ]
  },
  {
   "attachments": {},
   "cell_type": "markdown",
   "metadata": {
    "id": "x5-LKF6R8xeq"
   },
   "source": [
    "# Feature Selection\n",
    "Choose features you deem useful by modifying the function below.\n",
    "\n",
    "\n",
    "以下是对这些新冠调查指标的解释和建议：\n",
    "\n",
    "cli：COVID-Like Illness，类似新冠病毒感染的症状。这个指标可能与新增阳性病例有关，因为有症状的人更可能进行检测。\n",
    "\n",
    "ili：Influenza-Like Illness，类似流感的症状。这个指标可能与新增阳性病例有关，因为新冠病毒的一些症状与流感相似。\n",
    "\n",
    "wnohh_cmnty_cli：社区中有类似新冠病毒感染症状的家庭的加权数量。这个指标可能与新增阳性病例有关，因为如果社区中有更多的家庭有症状，那么可能有更多的阳性病例。\n",
    "\n",
    "wbelief_masking_effective：对口罩有效性的加权信念。这个指标可能与新增阳性病例有关，因为如果人们相信口罩有效，他们可能更愿意佩戴口罩，从而降低感染的风险。\n",
    "\n",
    "wbelief_distancing_effective：对社交距离有效性的加权信念。这个指标可能与新增阳性病例有关，因为如果人们相信社交距离有效，他们可能更愿意保持社交距离，从而降低感染的风险。\n",
    "\n",
    "wcovid_vaccinated_friends：接种新冠疫苗的朋友的加权数量。这个指标可能与新增阳性病例有关，因为如果一个人的朋友中有更多的人接种了疫苗，那么这个人可能也更愿意接种疫苗，从而降低感染的风险。\n",
    "\n",
    "wlarge_event_indoors：参加大型室内活动的加权数量。这个指标可能与新增阳性病例有关，因为大型室内活动可能增加感染的风险。\n",
    "\n",
    "wothers_masked_public：公共场所其他人佩戴口罩的加权数量。这个指标可能与新增阳性病例有关，因为如果公共场所的人都佩戴口罩，那么感染的风险可能会降低。\n",
    "\n",
    "wothers_distanced_public：公共场所其他人保持社交距离的加权数量。这个指标可能与新增阳性病例有关，因为如果公共场所的人都保持社交距离，那么感染的风险可能会降低。\n",
    "\n",
    "wshop_indoors：在室内购物的加权数量。这个指标可能与新增阳性病例有关，因为在室内购物可能增加感染的风险。\n",
    "\n",
    "wrestaurant_indoors：在室内餐厅就餐的加权数量。这个指标可能与新增阳性病例有关，因为在室内餐厅就餐可能增加感染的风险。\n",
    "\n",
    "wworried_catch_covid：担心感染新冠病毒的加权数量。这个指标可能与新增阳性病例有关，因为如果人们更担心感染新冠病毒，他们可能会采取更多的防护措施，从而降低感染的风险。\n",
    "\n",
    "hh_cmnty_cli：家庭社区中有类似新冠病毒感染症状的数量。这个指标可能与新增阳性病例有关，因为如果一个家庭社区中有更多的人有症状，那么可能有更多的阳性病例。\n",
    "\n",
    "nohh_cmnty_cli：非家庭社区中有类似新冠病毒感染症状的数量。这个指标可能与新增阳性病例有关，因为如果一个非家庭社区中有更多的人有症状，那么可能有更多的阳性病例。\n",
    "\n",
    "wearing_mask_7d：过去7天佩戴口罩的加权数量。这个指标可能与新增阳性病例有关，因为佩戴口罩可以降低感染新冠病毒的风险。\n",
    "\n",
    "public_transit：使用公共交通的数量。这个指标可能与新增阳性病例有关，因为使用公共交通可能增加感染新冠病毒的风险。\n",
    "\n",
    "worried_finances：担心财务问题的数量。这个指标可能与新增阳性病例有关，因为担心财务问题可能影响人们的健康行为和决策。\n",
    "\n",
    "建议选择以下指标进行预测新增阳性病例：cli、ili、wnohh_cmnty_cli、wbelief_masking_effective、wbelief_distancing_effective、wcovid_vaccinated_friends、wlarge_event_indoors、wothers_masked_public、wothers_distanced_public、wshop_indoors、wrestaurant_indoors、wworried_catch_covid、hh_cmnty_cli、nohh_cmnty_cli、wearing_mask_7d、public_transit。这些指标涵盖了症状、防护行为、社区状况、个人行为等多个方面，可以全面地反映出可能影响新增阳性病例的因素。同时，这些指标也包含了人们的信念和行为，这些都可能影响到新冠病毒的传播。因此，选择这些指标进行预测可能会得到更准确的结果。"
   ]
  },
  {
   "cell_type": "code",
   "execution_count": 58,
   "metadata": {
    "execution": {
     "iopub.execute_input": "2023-02-12T07:31:18.277589Z",
     "iopub.status.busy": "2023-02-12T07:31:18.277047Z",
     "iopub.status.idle": "2023-02-12T07:31:18.284837Z",
     "shell.execute_reply": "2023-02-12T07:31:18.283918Z",
     "shell.execute_reply.started": "2023-02-12T07:31:18.277554Z"
    },
    "id": "0FEnKRaIIeKp"
   },
   "outputs": [],
   "source": [
    "# 设置了四个参数。前三个参数分别是训练数据、验证数据和测试数据。第四个参数select_all是一个布尔值，用于决定是否选择所有特征。\n",
    "def select_feat(train_data, valid_data, test_data, select_all):\n",
    "    '''Selects useful features to perform regression'''\n",
    "    # 从训练数据和验证数据中提取目标变量。假设目标变量在每个数据集的最后一列，因此可以使用[:, -1]来提取目标变量。\n",
    "    y_train, y_valid = train_data[:,-1], valid_data[:,-1]\n",
    "    # 从训练数据、验证数据和测试数据中提取特征变量。假设特征变量在每个数据集的第一列到倒数第二列，因此可以使用[:,:-1]来提取特征变量。\n",
    "    raw_x_train, raw_x_valid, raw_x_test = train_data[:,:-1], valid_data[:,:-1], test_data\n",
    "\n",
    "    if select_all:\n",
    "        feat_idx = list(range(raw_x_train.shape[1]))\n",
    "    else:\n",
    "        feat_idx = list(range(35, raw_x_train.shape[1])) # TODO: Select suitable feature columns.\n",
    "    print(feat_idx)\n",
    "    # 返回选择的特征变量和目标变量\n",
    "    return raw_x_train[:,feat_idx], raw_x_valid[:,feat_idx], raw_x_test[:,feat_idx], y_train, y_valid"
   ]
  },
  {
   "attachments": {},
   "cell_type": "markdown",
   "metadata": {
    "id": "kADIPNQ2Ih5X"
   },
   "source": [
    "# Training Loop"
   ]
  },
  {
   "cell_type": "code",
   "execution_count": 59,
   "metadata": {
    "execution": {
     "iopub.execute_input": "2023-02-12T07:31:18.286701Z",
     "iopub.status.busy": "2023-02-12T07:31:18.286341Z",
     "iopub.status.idle": "2023-02-12T07:31:18.301211Z",
     "shell.execute_reply": "2023-02-12T07:31:18.300217Z",
     "shell.execute_reply.started": "2023-02-12T07:31:18.286646Z"
    },
    "id": "k4Rq8_TztAhq"
   },
   "outputs": [],
   "source": [
    "def trainer(train_loader, valid_loader, model, config, device):\n",
    "\n",
    "    criterion = nn.MSELoss(reduction='mean') # Define your loss function, do not modify this.\n",
    "\n",
    "    # Define your optimization algorithm. \n",
    "    # TODO: Please check https://pytorch.org/docs/stable/optim.html to get more available algorithms.\n",
    "    # TODO: L2 regularization (optimizer(weight decay...) or implement by your self).\n",
    "    # 1.使用SGD优化器\n",
    "    # optimizer = torch.optim.SGD(model.parameters(), lr=config['learning_rate'], momentum=0.7)\n",
    "    # 2.优化器使用Adam\n",
    "    optimizer = torch.optim.Adam(model.parameters(), lr=config['learning_rate'], weight_decay=0.01)\n",
    "    # 加入学习率衰减\n",
    "    scheduler = torch.optim.lr_scheduler.StepLR(optimizer, step_size=800, gamma=0.1)  # 每100个epoch，学习率乘以0.1\n",
    "    # 3.优化器使用RMSprop\n",
    "    # optimizer = torch.optim.RMSprop(model.parameters(), lr=config['learning_rate'], weight_decay=0.01)\n",
    "    writer = SummaryWriter() # Writer of tensoboard.\n",
    "\n",
    "    if not os.path.isdir('./models'):\n",
    "        os.mkdir('./models') # Create directory of saving models.\n",
    "\n",
    "    n_epochs, best_loss, step, early_stop_count = config['n_epochs'], math.inf, 0, 0\n",
    "\n",
    "    for epoch in range(n_epochs):\n",
    "        model.train() # Set your model to train mode.\n",
    "        loss_record = []\n",
    "\n",
    "        # tqdm is a package to visualize your training progress.\n",
    "        # train_pbar = tqdm(train_loader, position=0, leave=True)\n",
    "\n",
    "        for x, y in train_loader:\n",
    "            optimizer.zero_grad()               # Set gradient to zero.\n",
    "            x, y = x.to(device), y.to(device)   # Move your data to device. \n",
    "            pred = model(x)\n",
    "            loss = criterion(pred, y)\n",
    "            loss.backward()                     # Compute gradient(backpropagation).\n",
    "            optimizer.step()                    # Update parameters.\n",
    "            step += 1\n",
    "            loss_record.append(loss.detach().item())\n",
    "            \n",
    "            # Display current epoch number and loss on tqdm progress bar.\n",
    "            # train_pbar.set_description(f'Epoch [{epoch+1}/{n_epochs}]')\n",
    "            # train_pbar.set_postfix({'loss': loss.detach().item()})\n",
    "\n",
    "        mean_train_loss = sum(loss_record)/len(loss_record)\n",
    "        writer.add_scalar('Loss/train', mean_train_loss, step)\n",
    "        scheduler.step()  # 更新学习率\n",
    "\n",
    "        model.eval() # Set your model to evaluation mode.\n",
    "        loss_record = []\n",
    "        for x, y in valid_loader:\n",
    "            x, y = x.to(device), y.to(device)\n",
    "            with torch.no_grad():\n",
    "                pred = model(x)\n",
    "                loss = criterion(pred, y)\n",
    "\n",
    "            loss_record.append(loss.item())\n",
    "            \n",
    "        mean_valid_loss = sum(loss_record)/len(loss_record)\n",
    "        # print(f'Epoch [{epoch+1}/{n_epochs}]: Train loss: {mean_train_loss:.4f}, Valid loss: {mean_valid_loss:.4f}')\n",
    "        writer.add_scalar('Loss/valid', mean_valid_loss, step)\n",
    "\n",
    "        if mean_valid_loss < best_loss:\n",
    "            best_loss = mean_valid_loss\n",
    "            torch.save(model.state_dict(), config['save_path']) # Save your best model\n",
    "            print('Saving model with loss {:.3f}...'.format(best_loss))\n",
    "            early_stop_count = 0\n",
    "        else: \n",
    "            early_stop_count += 1\n",
    "\n",
    "        if early_stop_count >= config['early_stop']:\n",
    "            print('\\nModel is not improving, so we halt the training session.')\n",
    "            return"
   ]
  },
  {
   "attachments": {},
   "cell_type": "markdown",
   "metadata": {
    "id": "0pgkOh2e9UjE"
   },
   "source": [
    "# Configurations\n",
    "`config` contains hyper-parameters for training and the path to save your model."
   ]
  },
  {
   "cell_type": "code",
   "execution_count": 60,
   "metadata": {
    "execution": {
     "iopub.execute_input": "2023-02-12T07:31:18.305345Z",
     "iopub.status.busy": "2023-02-12T07:31:18.304983Z",
     "iopub.status.idle": "2023-02-12T07:31:18.361404Z",
     "shell.execute_reply": "2023-02-12T07:31:18.36028Z",
     "shell.execute_reply.started": "2023-02-12T07:31:18.305313Z"
    },
    "id": "QoWPUahCtoT6"
   },
   "outputs": [],
   "source": [
    "device = 'cuda'\n",
    "config = {\n",
    "    'seed': 5201314,      # Your seed number, you can pick your lucky number. :)\n",
    "    'select_all': False,   # Whether to use all features.\n",
    "    'valid_ratio': 0.1,   # validation_size = train_size * valid_ratio\n",
    "    'n_epochs': 10000,     # Number of epochs.            \n",
    "    'batch_size': 512, \n",
    "    'learning_rate': 1e-2,              \n",
    "    'early_stop': 800,    # If model has not improved for this many consecutive epochs, stop training.     \n",
    "    'save_path': './models/model.ckpt'  # Your model will be saved here.\n",
    "}"
   ]
  },
  {
   "attachments": {},
   "cell_type": "markdown",
   "metadata": {
    "id": "lrS-aJJh9XkW"
   },
   "source": [
    "# Dataloader\n",
    "Read data from files and set up training, validation, and testing sets. You do not need to modify this part."
   ]
  },
  {
   "cell_type": "code",
   "execution_count": 61,
   "metadata": {
    "execution": {
     "iopub.execute_input": "2023-02-12T07:31:18.363561Z",
     "iopub.status.busy": "2023-02-12T07:31:18.363178Z",
     "iopub.status.idle": "2023-02-12T07:31:18.439675Z",
     "shell.execute_reply": "2023-02-12T07:31:18.43872Z",
     "shell.execute_reply.started": "2023-02-12T07:31:18.363526Z"
    },
    "id": "2jc7ZfDot2t9"
   },
   "outputs": [
    {
     "name": "stdout",
     "output_type": "stream",
     "text": [
      "train_data size: (2709, 89) \n",
      "valid_data size: (300, 89) \n",
      "test_data size: (997, 88)\n",
      "[35, 36, 37, 38, 39, 40, 41, 42, 43, 44, 45, 46, 47, 48, 49, 50, 51, 52, 53, 54, 55, 56, 57, 58, 59, 60, 61, 62, 63, 64, 65, 66, 67, 68, 69, 70, 71, 72, 73, 74, 75, 76, 77, 78, 79, 80, 81, 82, 83, 84, 85, 86, 87]\n",
      "number of features: 53\n"
     ]
    }
   ],
   "source": [
    "# Set seed for reproducibility\n",
    "same_seed(config['seed'])\n",
    "\n",
    "\n",
    "# train_data size: 3009 x 89 (35 states + 18 features x 3 days) \n",
    "# test_data size: 997 x 88 (without last day's positive rate)\n",
    "train_data, test_data = pd.read_csv('./covid_train.csv').values, pd.read_csv('./covid_test.csv').values\n",
    "train_data, valid_data = train_valid_split(train_data, config['valid_ratio'], config['seed'])\n",
    "\n",
    "# Print out the data size.\n",
    "print(f\"\"\"train_data size: {train_data.shape} \n",
    "valid_data size: {valid_data.shape} \n",
    "test_data size: {test_data.shape}\"\"\")\n",
    "\n",
    "# Select features\n",
    "x_train, x_valid, x_test, y_train, y_valid = select_feat(train_data, valid_data, test_data, config['select_all'])\n",
    "\n",
    "# Print out the number of features.\n",
    "print(f'number of features: {x_train.shape[1]}')\n",
    "\n",
    "train_dataset, valid_dataset, test_dataset = COVID19Dataset(x_train, y_train), \\\n",
    "                                            COVID19Dataset(x_valid, y_valid), \\\n",
    "                                            COVID19Dataset(x_test)\n",
    "\n",
    "# Pytorch data loader loads pytorch dataset into batches.\n",
    "train_loader = DataLoader(train_dataset, batch_size=config['batch_size'], shuffle=True, pin_memory=True)\n",
    "valid_loader = DataLoader(valid_dataset, batch_size=config['batch_size'], shuffle=True, pin_memory=True)\n",
    "test_loader = DataLoader(test_dataset, batch_size=config['batch_size'], shuffle=False, pin_memory=True)"
   ]
  },
  {
   "attachments": {},
   "cell_type": "markdown",
   "metadata": {
    "id": "0OBYgjCA-YwD"
   },
   "source": [
    "# Start training!"
   ]
  },
  {
   "cell_type": "code",
   "execution_count": null,
   "metadata": {
    "execution": {
     "iopub.execute_input": "2023-02-12T07:31:18.441534Z",
     "iopub.status.busy": "2023-02-12T07:31:18.441083Z"
    },
    "id": "YdttVRkAfu2t"
   },
   "outputs": [],
   "source": [
    "model = My_Model(input_dim=x_train.shape[1]).to(device) # put your model and data on the same computation device.\n",
    "trainer(train_loader, valid_loader, model, config, device)"
   ]
  },
  {
   "attachments": {},
   "cell_type": "markdown",
   "metadata": {
    "id": "yhAHGqC9-woK"
   },
   "source": [
    "# Testing\n",
    "The predictions of your model on testing set will be stored at `pred.csv`."
   ]
  },
  {
   "cell_type": "code",
   "execution_count": 63,
   "metadata": {
    "id": "Q5eVdpbvAlAe"
   },
   "outputs": [
    {
     "name": "stderr",
     "output_type": "stream",
     "text": [
      "100%|██████████| 4/4 [00:00<00:00, 444.42it/s]\n"
     ]
    }
   ],
   "source": [
    "def save_pred(preds, file):\n",
    "    ''' Save predictions to specified file '''\n",
    "    with open(file, 'w') as fp:\n",
    "        writer = csv.writer(fp)\n",
    "        writer.writerow(['id', 'tested_positive'])\n",
    "        for i, p in enumerate(preds):\n",
    "            writer.writerow([i, p])\n",
    "\n",
    "model = My_Model(input_dim=x_train.shape[1]).to(device)\n",
    "model.load_state_dict(torch.load(config['save_path']))\n",
    "preds = predict(test_loader, model, device) \n",
    "save_pred(preds, 'pred.csv')"
   ]
  },
  {
   "attachments": {},
   "cell_type": "markdown",
   "metadata": {
    "id": "T_N-wBvVahc7"
   },
   "source": [
    "# Download\n",
    "\n",
    "Run this block to download the `pred.csv` by clicking."
   ]
  },
  {
   "cell_type": "code",
   "execution_count": 64,
   "metadata": {
    "id": "PmMnwrHeavJv"
   },
   "outputs": [
    {
     "data": {
      "text/html": [
       "<a href='pred.csv' target='_blank'>pred.csv</a><br>"
      ],
      "text/plain": [
       "e:\\Jupyter\\LHY2023\\HW1\\pred.csv"
      ]
     },
     "execution_count": 64,
     "metadata": {},
     "output_type": "execute_result"
    }
   ],
   "source": [
    "from IPython.display import FileLink\n",
    "FileLink(r'pred.csv')"
   ]
  },
  {
   "attachments": {},
   "cell_type": "markdown",
   "metadata": {
    "id": "IJ_k5rY0GvSV"
   },
   "source": [
    "# Reference\n",
    "This notebook uses code written by Heng-Jui Chang @ NTUEE (https://github.com/ga642381/ML2021-Spring/blob/main/HW01/HW01.ipynb)"
   ]
  }
 ],
 "metadata": {
  "kernelspec": {
   "display_name": "Python 3 (ipykernel)",
   "language": "python",
   "name": "python3"
  },
  "language_info": {
   "codemirror_mode": {
    "name": "ipython",
    "version": 3
   },
   "file_extension": ".py",
   "mimetype": "text/x-python",
   "name": "python",
   "nbconvert_exporter": "python",
   "pygments_lexer": "ipython3",
   "version": "3.10.11"
  }
 },
 "nbformat": 4,
 "nbformat_minor": 4
}
